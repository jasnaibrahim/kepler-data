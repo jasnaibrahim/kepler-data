{
  "nbformat": 4,
  "nbformat_minor": 0,
  "metadata": {
    "colab": {
      "provenance": [],
      "include_colab_link": true
    },
    "kernelspec": {
      "name": "python3",
      "display_name": "Python 3"
    },
    "language_info": {
      "name": "python"
    }
  },
  "cells": [
    {
      "cell_type": "markdown",
      "metadata": {
        "id": "view-in-github",
        "colab_type": "text"
      },
      "source": [
        "<a href=\"https://colab.research.google.com/github/jasnaibrahim/kepler-data/blob/main/keplerdata.ipynb\" target=\"_parent\"><img src=\"https://colab.research.google.com/assets/colab-badge.svg\" alt=\"Open In Colab\"/></a>"
      ]
    },
    {
      "cell_type": "markdown",
      "source": [
        " **ML Alogrithm to classify the planets as Candidate/False positive/Confirmed etc based on the  column “koi_disposition”.**\n"
      ],
      "metadata": {
        "id": "rbFksAbQz2Cy"
      }
    },
    {
      "cell_type": "markdown",
      "source": [],
      "metadata": {
        "id": "ldDLi6Vnoo_T"
      }
    },
    {
      "cell_type": "markdown",
      "source": [
        "importing neccessory libraries\n"
      ],
      "metadata": {
        "id": "b03Y6GjB0NqE"
      }
    },
    {
      "cell_type": "code",
      "source": [
        "import pandas as pd\n",
        "from sklearn.pipeline import Pipeline\n",
        "from sklearn.compose import ColumnTransformer\n",
        "from sklearn.preprocessing import StandardScaler, LabelEncoder\n",
        "from imblearn.over_sampling import SMOTE\n",
        "from sklearn.model_selection import train_test_split, GridSearchCV\n",
        "from sklearn.impute import SimpleImputer\n",
        "from sklearn.linear_model import LogisticRegression\n",
        "from sklearn.tree import DecisionTreeClassifier\n",
        "from sklearn.ensemble import RandomForestClassifier\n",
        "from xgboost import XGBClassifier\n",
        "from sklearn.naive_bayes import GaussianNB\n",
        "from sklearn.neighbors import KNeighborsClassifier\n",
        "from sklearn.metrics import accuracy_score, classification_report, confusion_matrix\n",
        "import matplotlib.pyplot as plt\n",
        "import seaborn as sns\n"
      ],
      "metadata": {
        "id": "Ygh_5U8eZ4Gi"
      },
      "execution_count": 1,
      "outputs": []
    },
    {
      "cell_type": "markdown",
      "source": [
        "Data loading"
      ],
      "metadata": {
        "id": "rHqwmULHaEwE"
      }
    },
    {
      "cell_type": "code",
      "source": [
        "\n",
        "df=pd.read_excel(\"/content/Kepler(1).xlsx\")"
      ],
      "metadata": {
        "id": "c_paltH2z67s"
      },
      "execution_count": 2,
      "outputs": []
    },
    {
      "cell_type": "markdown",
      "source": [
        "EDA-Exploaratory Data Analysis"
      ],
      "metadata": {
        "id": "SPVSHTT2aIvv"
      }
    },
    {
      "cell_type": "code",
      "source": [
        "df.head(10)"
      ],
      "metadata": {
        "colab": {
          "base_uri": "https://localhost:8080/",
          "height": 412
        },
        "id": "bYkwh2_F129E",
        "outputId": "62078ed8-15bc-4cdc-c44d-074cf3a4b6bd"
      },
      "execution_count": 3,
      "outputs": [
        {
          "output_type": "execute_result",
          "data": {
            "text/plain": [
              "      kepid kepoi_name   kepler_name koi_disposition koi_pdisposition  \\\n",
              "0  10797460  K00752.01  Kepler-227 b       CONFIRMED        CANDIDATE   \n",
              "1  10797460  K00752.02  Kepler-227 c       CONFIRMED        CANDIDATE   \n",
              "2  10811496  K00753.01           NaN       CANDIDATE        CANDIDATE   \n",
              "3  10848459  K00754.01           NaN  FALSE POSITIVE   FALSE POSITIVE   \n",
              "4  10854555  K00755.01  Kepler-664 b       CONFIRMED        CANDIDATE   \n",
              "5  10872983  K00756.01  Kepler-228 d       CONFIRMED        CANDIDATE   \n",
              "6  10872983  K00756.02  Kepler-228 c       CONFIRMED        CANDIDATE   \n",
              "7  10872983  K00756.03  Kepler-228 b       CONFIRMED        CANDIDATE   \n",
              "8   6721123  K00114.01           NaN  FALSE POSITIVE   FALSE POSITIVE   \n",
              "9  10910878  K00757.01  Kepler-229 c       CONFIRMED        CANDIDATE   \n",
              "\n",
              "   koi_score  koi_fpflag_nt  koi_fpflag_ss  koi_fpflag_co  koi_fpflag_ec  ...  \\\n",
              "0      1.000              0              0              0              0  ...   \n",
              "1      0.969              0              0              0              0  ...   \n",
              "2      0.000              0              0              0              0  ...   \n",
              "3      0.000              0              1              0              0  ...   \n",
              "4      1.000              0              0              0              0  ...   \n",
              "5      1.000              0              0              0              0  ...   \n",
              "6      1.000              0              0              0              0  ...   \n",
              "7      0.992              0              0              0              0  ...   \n",
              "8      0.000              0              1              1              0  ...   \n",
              "9      1.000              0              0              0              0  ...   \n",
              "\n",
              "   koi_steff_err2  koi_slogg  koi_slogg_err1  koi_slogg_err2  koi_srad  \\\n",
              "0           -81.0      4.467           0.064          -0.096     0.927   \n",
              "1           -81.0      4.467           0.064          -0.096     0.927   \n",
              "2          -176.0      4.544           0.044          -0.176     0.868   \n",
              "3          -174.0      4.564           0.053          -0.168     0.791   \n",
              "4          -211.0      4.438           0.070          -0.210     1.046   \n",
              "5          -232.0      4.486           0.054          -0.229     0.972   \n",
              "6          -232.0      4.486           0.054          -0.229     0.972   \n",
              "7          -232.0      4.486           0.054          -0.229     0.972   \n",
              "8          -124.0      3.986           0.182          -0.098     1.958   \n",
              "9           -83.0      4.485           0.083          -0.028     0.848   \n",
              "\n",
              "   koi_srad_err1  koi_srad_err2         ra        dec  koi_kepmag  \n",
              "0          0.105         -0.061  291.93423  48.141651      15.347  \n",
              "1          0.105         -0.061  291.93423  48.141651      15.347  \n",
              "2          0.233         -0.078  297.00482  48.134129      15.436  \n",
              "3          0.201         -0.067  285.53461  48.285210      15.597  \n",
              "4          0.334         -0.133  288.75488  48.226200      15.509  \n",
              "5          0.315         -0.105  296.28613  48.224670      15.714  \n",
              "6          0.315         -0.105  296.28613  48.224670      15.714  \n",
              "7          0.315         -0.105  296.28613  48.224670      15.714  \n",
              "8          0.322         -0.483  298.86435  42.151569      12.660  \n",
              "9          0.033         -0.072  286.99948  48.375790      15.841  \n",
              "\n",
              "[10 rows x 49 columns]"
            ],
            "text/html": [
              "\n",
              "  <div id=\"df-ba6b3ff6-e650-48be-b59d-6f8de92d89c5\" class=\"colab-df-container\">\n",
              "    <div>\n",
              "<style scoped>\n",
              "    .dataframe tbody tr th:only-of-type {\n",
              "        vertical-align: middle;\n",
              "    }\n",
              "\n",
              "    .dataframe tbody tr th {\n",
              "        vertical-align: top;\n",
              "    }\n",
              "\n",
              "    .dataframe thead th {\n",
              "        text-align: right;\n",
              "    }\n",
              "</style>\n",
              "<table border=\"1\" class=\"dataframe\">\n",
              "  <thead>\n",
              "    <tr style=\"text-align: right;\">\n",
              "      <th></th>\n",
              "      <th>kepid</th>\n",
              "      <th>kepoi_name</th>\n",
              "      <th>kepler_name</th>\n",
              "      <th>koi_disposition</th>\n",
              "      <th>koi_pdisposition</th>\n",
              "      <th>koi_score</th>\n",
              "      <th>koi_fpflag_nt</th>\n",
              "      <th>koi_fpflag_ss</th>\n",
              "      <th>koi_fpflag_co</th>\n",
              "      <th>koi_fpflag_ec</th>\n",
              "      <th>...</th>\n",
              "      <th>koi_steff_err2</th>\n",
              "      <th>koi_slogg</th>\n",
              "      <th>koi_slogg_err1</th>\n",
              "      <th>koi_slogg_err2</th>\n",
              "      <th>koi_srad</th>\n",
              "      <th>koi_srad_err1</th>\n",
              "      <th>koi_srad_err2</th>\n",
              "      <th>ra</th>\n",
              "      <th>dec</th>\n",
              "      <th>koi_kepmag</th>\n",
              "    </tr>\n",
              "  </thead>\n",
              "  <tbody>\n",
              "    <tr>\n",
              "      <th>0</th>\n",
              "      <td>10797460</td>\n",
              "      <td>K00752.01</td>\n",
              "      <td>Kepler-227 b</td>\n",
              "      <td>CONFIRMED</td>\n",
              "      <td>CANDIDATE</td>\n",
              "      <td>1.000</td>\n",
              "      <td>0</td>\n",
              "      <td>0</td>\n",
              "      <td>0</td>\n",
              "      <td>0</td>\n",
              "      <td>...</td>\n",
              "      <td>-81.0</td>\n",
              "      <td>4.467</td>\n",
              "      <td>0.064</td>\n",
              "      <td>-0.096</td>\n",
              "      <td>0.927</td>\n",
              "      <td>0.105</td>\n",
              "      <td>-0.061</td>\n",
              "      <td>291.93423</td>\n",
              "      <td>48.141651</td>\n",
              "      <td>15.347</td>\n",
              "    </tr>\n",
              "    <tr>\n",
              "      <th>1</th>\n",
              "      <td>10797460</td>\n",
              "      <td>K00752.02</td>\n",
              "      <td>Kepler-227 c</td>\n",
              "      <td>CONFIRMED</td>\n",
              "      <td>CANDIDATE</td>\n",
              "      <td>0.969</td>\n",
              "      <td>0</td>\n",
              "      <td>0</td>\n",
              "      <td>0</td>\n",
              "      <td>0</td>\n",
              "      <td>...</td>\n",
              "      <td>-81.0</td>\n",
              "      <td>4.467</td>\n",
              "      <td>0.064</td>\n",
              "      <td>-0.096</td>\n",
              "      <td>0.927</td>\n",
              "      <td>0.105</td>\n",
              "      <td>-0.061</td>\n",
              "      <td>291.93423</td>\n",
              "      <td>48.141651</td>\n",
              "      <td>15.347</td>\n",
              "    </tr>\n",
              "    <tr>\n",
              "      <th>2</th>\n",
              "      <td>10811496</td>\n",
              "      <td>K00753.01</td>\n",
              "      <td>NaN</td>\n",
              "      <td>CANDIDATE</td>\n",
              "      <td>CANDIDATE</td>\n",
              "      <td>0.000</td>\n",
              "      <td>0</td>\n",
              "      <td>0</td>\n",
              "      <td>0</td>\n",
              "      <td>0</td>\n",
              "      <td>...</td>\n",
              "      <td>-176.0</td>\n",
              "      <td>4.544</td>\n",
              "      <td>0.044</td>\n",
              "      <td>-0.176</td>\n",
              "      <td>0.868</td>\n",
              "      <td>0.233</td>\n",
              "      <td>-0.078</td>\n",
              "      <td>297.00482</td>\n",
              "      <td>48.134129</td>\n",
              "      <td>15.436</td>\n",
              "    </tr>\n",
              "    <tr>\n",
              "      <th>3</th>\n",
              "      <td>10848459</td>\n",
              "      <td>K00754.01</td>\n",
              "      <td>NaN</td>\n",
              "      <td>FALSE POSITIVE</td>\n",
              "      <td>FALSE POSITIVE</td>\n",
              "      <td>0.000</td>\n",
              "      <td>0</td>\n",
              "      <td>1</td>\n",
              "      <td>0</td>\n",
              "      <td>0</td>\n",
              "      <td>...</td>\n",
              "      <td>-174.0</td>\n",
              "      <td>4.564</td>\n",
              "      <td>0.053</td>\n",
              "      <td>-0.168</td>\n",
              "      <td>0.791</td>\n",
              "      <td>0.201</td>\n",
              "      <td>-0.067</td>\n",
              "      <td>285.53461</td>\n",
              "      <td>48.285210</td>\n",
              "      <td>15.597</td>\n",
              "    </tr>\n",
              "    <tr>\n",
              "      <th>4</th>\n",
              "      <td>10854555</td>\n",
              "      <td>K00755.01</td>\n",
              "      <td>Kepler-664 b</td>\n",
              "      <td>CONFIRMED</td>\n",
              "      <td>CANDIDATE</td>\n",
              "      <td>1.000</td>\n",
              "      <td>0</td>\n",
              "      <td>0</td>\n",
              "      <td>0</td>\n",
              "      <td>0</td>\n",
              "      <td>...</td>\n",
              "      <td>-211.0</td>\n",
              "      <td>4.438</td>\n",
              "      <td>0.070</td>\n",
              "      <td>-0.210</td>\n",
              "      <td>1.046</td>\n",
              "      <td>0.334</td>\n",
              "      <td>-0.133</td>\n",
              "      <td>288.75488</td>\n",
              "      <td>48.226200</td>\n",
              "      <td>15.509</td>\n",
              "    </tr>\n",
              "    <tr>\n",
              "      <th>5</th>\n",
              "      <td>10872983</td>\n",
              "      <td>K00756.01</td>\n",
              "      <td>Kepler-228 d</td>\n",
              "      <td>CONFIRMED</td>\n",
              "      <td>CANDIDATE</td>\n",
              "      <td>1.000</td>\n",
              "      <td>0</td>\n",
              "      <td>0</td>\n",
              "      <td>0</td>\n",
              "      <td>0</td>\n",
              "      <td>...</td>\n",
              "      <td>-232.0</td>\n",
              "      <td>4.486</td>\n",
              "      <td>0.054</td>\n",
              "      <td>-0.229</td>\n",
              "      <td>0.972</td>\n",
              "      <td>0.315</td>\n",
              "      <td>-0.105</td>\n",
              "      <td>296.28613</td>\n",
              "      <td>48.224670</td>\n",
              "      <td>15.714</td>\n",
              "    </tr>\n",
              "    <tr>\n",
              "      <th>6</th>\n",
              "      <td>10872983</td>\n",
              "      <td>K00756.02</td>\n",
              "      <td>Kepler-228 c</td>\n",
              "      <td>CONFIRMED</td>\n",
              "      <td>CANDIDATE</td>\n",
              "      <td>1.000</td>\n",
              "      <td>0</td>\n",
              "      <td>0</td>\n",
              "      <td>0</td>\n",
              "      <td>0</td>\n",
              "      <td>...</td>\n",
              "      <td>-232.0</td>\n",
              "      <td>4.486</td>\n",
              "      <td>0.054</td>\n",
              "      <td>-0.229</td>\n",
              "      <td>0.972</td>\n",
              "      <td>0.315</td>\n",
              "      <td>-0.105</td>\n",
              "      <td>296.28613</td>\n",
              "      <td>48.224670</td>\n",
              "      <td>15.714</td>\n",
              "    </tr>\n",
              "    <tr>\n",
              "      <th>7</th>\n",
              "      <td>10872983</td>\n",
              "      <td>K00756.03</td>\n",
              "      <td>Kepler-228 b</td>\n",
              "      <td>CONFIRMED</td>\n",
              "      <td>CANDIDATE</td>\n",
              "      <td>0.992</td>\n",
              "      <td>0</td>\n",
              "      <td>0</td>\n",
              "      <td>0</td>\n",
              "      <td>0</td>\n",
              "      <td>...</td>\n",
              "      <td>-232.0</td>\n",
              "      <td>4.486</td>\n",
              "      <td>0.054</td>\n",
              "      <td>-0.229</td>\n",
              "      <td>0.972</td>\n",
              "      <td>0.315</td>\n",
              "      <td>-0.105</td>\n",
              "      <td>296.28613</td>\n",
              "      <td>48.224670</td>\n",
              "      <td>15.714</td>\n",
              "    </tr>\n",
              "    <tr>\n",
              "      <th>8</th>\n",
              "      <td>6721123</td>\n",
              "      <td>K00114.01</td>\n",
              "      <td>NaN</td>\n",
              "      <td>FALSE POSITIVE</td>\n",
              "      <td>FALSE POSITIVE</td>\n",
              "      <td>0.000</td>\n",
              "      <td>0</td>\n",
              "      <td>1</td>\n",
              "      <td>1</td>\n",
              "      <td>0</td>\n",
              "      <td>...</td>\n",
              "      <td>-124.0</td>\n",
              "      <td>3.986</td>\n",
              "      <td>0.182</td>\n",
              "      <td>-0.098</td>\n",
              "      <td>1.958</td>\n",
              "      <td>0.322</td>\n",
              "      <td>-0.483</td>\n",
              "      <td>298.86435</td>\n",
              "      <td>42.151569</td>\n",
              "      <td>12.660</td>\n",
              "    </tr>\n",
              "    <tr>\n",
              "      <th>9</th>\n",
              "      <td>10910878</td>\n",
              "      <td>K00757.01</td>\n",
              "      <td>Kepler-229 c</td>\n",
              "      <td>CONFIRMED</td>\n",
              "      <td>CANDIDATE</td>\n",
              "      <td>1.000</td>\n",
              "      <td>0</td>\n",
              "      <td>0</td>\n",
              "      <td>0</td>\n",
              "      <td>0</td>\n",
              "      <td>...</td>\n",
              "      <td>-83.0</td>\n",
              "      <td>4.485</td>\n",
              "      <td>0.083</td>\n",
              "      <td>-0.028</td>\n",
              "      <td>0.848</td>\n",
              "      <td>0.033</td>\n",
              "      <td>-0.072</td>\n",
              "      <td>286.99948</td>\n",
              "      <td>48.375790</td>\n",
              "      <td>15.841</td>\n",
              "    </tr>\n",
              "  </tbody>\n",
              "</table>\n",
              "<p>10 rows × 49 columns</p>\n",
              "</div>\n",
              "    <div class=\"colab-df-buttons\">\n",
              "\n",
              "  <div class=\"colab-df-container\">\n",
              "    <button class=\"colab-df-convert\" onclick=\"convertToInteractive('df-ba6b3ff6-e650-48be-b59d-6f8de92d89c5')\"\n",
              "            title=\"Convert this dataframe to an interactive table.\"\n",
              "            style=\"display:none;\">\n",
              "\n",
              "  <svg xmlns=\"http://www.w3.org/2000/svg\" height=\"24px\" viewBox=\"0 -960 960 960\">\n",
              "    <path d=\"M120-120v-720h720v720H120Zm60-500h600v-160H180v160Zm220 220h160v-160H400v160Zm0 220h160v-160H400v160ZM180-400h160v-160H180v160Zm440 0h160v-160H620v160ZM180-180h160v-160H180v160Zm440 0h160v-160H620v160Z\"/>\n",
              "  </svg>\n",
              "    </button>\n",
              "\n",
              "  <style>\n",
              "    .colab-df-container {\n",
              "      display:flex;\n",
              "      gap: 12px;\n",
              "    }\n",
              "\n",
              "    .colab-df-convert {\n",
              "      background-color: #E8F0FE;\n",
              "      border: none;\n",
              "      border-radius: 50%;\n",
              "      cursor: pointer;\n",
              "      display: none;\n",
              "      fill: #1967D2;\n",
              "      height: 32px;\n",
              "      padding: 0 0 0 0;\n",
              "      width: 32px;\n",
              "    }\n",
              "\n",
              "    .colab-df-convert:hover {\n",
              "      background-color: #E2EBFA;\n",
              "      box-shadow: 0px 1px 2px rgba(60, 64, 67, 0.3), 0px 1px 3px 1px rgba(60, 64, 67, 0.15);\n",
              "      fill: #174EA6;\n",
              "    }\n",
              "\n",
              "    .colab-df-buttons div {\n",
              "      margin-bottom: 4px;\n",
              "    }\n",
              "\n",
              "    [theme=dark] .colab-df-convert {\n",
              "      background-color: #3B4455;\n",
              "      fill: #D2E3FC;\n",
              "    }\n",
              "\n",
              "    [theme=dark] .colab-df-convert:hover {\n",
              "      background-color: #434B5C;\n",
              "      box-shadow: 0px 1px 3px 1px rgba(0, 0, 0, 0.15);\n",
              "      filter: drop-shadow(0px 1px 2px rgba(0, 0, 0, 0.3));\n",
              "      fill: #FFFFFF;\n",
              "    }\n",
              "  </style>\n",
              "\n",
              "    <script>\n",
              "      const buttonEl =\n",
              "        document.querySelector('#df-ba6b3ff6-e650-48be-b59d-6f8de92d89c5 button.colab-df-convert');\n",
              "      buttonEl.style.display =\n",
              "        google.colab.kernel.accessAllowed ? 'block' : 'none';\n",
              "\n",
              "      async function convertToInteractive(key) {\n",
              "        const element = document.querySelector('#df-ba6b3ff6-e650-48be-b59d-6f8de92d89c5');\n",
              "        const dataTable =\n",
              "          await google.colab.kernel.invokeFunction('convertToInteractive',\n",
              "                                                    [key], {});\n",
              "        if (!dataTable) return;\n",
              "\n",
              "        const docLinkHtml = 'Like what you see? Visit the ' +\n",
              "          '<a target=\"_blank\" href=https://colab.research.google.com/notebooks/data_table.ipynb>data table notebook</a>'\n",
              "          + ' to learn more about interactive tables.';\n",
              "        element.innerHTML = '';\n",
              "        dataTable['output_type'] = 'display_data';\n",
              "        await google.colab.output.renderOutput(dataTable, element);\n",
              "        const docLink = document.createElement('div');\n",
              "        docLink.innerHTML = docLinkHtml;\n",
              "        element.appendChild(docLink);\n",
              "      }\n",
              "    </script>\n",
              "  </div>\n",
              "\n",
              "\n",
              "<div id=\"df-dec9a702-c20a-4425-a23d-3d9f486363f7\">\n",
              "  <button class=\"colab-df-quickchart\" onclick=\"quickchart('df-dec9a702-c20a-4425-a23d-3d9f486363f7')\"\n",
              "            title=\"Suggest charts\"\n",
              "            style=\"display:none;\">\n",
              "\n",
              "<svg xmlns=\"http://www.w3.org/2000/svg\" height=\"24px\"viewBox=\"0 0 24 24\"\n",
              "     width=\"24px\">\n",
              "    <g>\n",
              "        <path d=\"M19 3H5c-1.1 0-2 .9-2 2v14c0 1.1.9 2 2 2h14c1.1 0 2-.9 2-2V5c0-1.1-.9-2-2-2zM9 17H7v-7h2v7zm4 0h-2V7h2v10zm4 0h-2v-4h2v4z\"/>\n",
              "    </g>\n",
              "</svg>\n",
              "  </button>\n",
              "\n",
              "<style>\n",
              "  .colab-df-quickchart {\n",
              "      --bg-color: #E8F0FE;\n",
              "      --fill-color: #1967D2;\n",
              "      --hover-bg-color: #E2EBFA;\n",
              "      --hover-fill-color: #174EA6;\n",
              "      --disabled-fill-color: #AAA;\n",
              "      --disabled-bg-color: #DDD;\n",
              "  }\n",
              "\n",
              "  [theme=dark] .colab-df-quickchart {\n",
              "      --bg-color: #3B4455;\n",
              "      --fill-color: #D2E3FC;\n",
              "      --hover-bg-color: #434B5C;\n",
              "      --hover-fill-color: #FFFFFF;\n",
              "      --disabled-bg-color: #3B4455;\n",
              "      --disabled-fill-color: #666;\n",
              "  }\n",
              "\n",
              "  .colab-df-quickchart {\n",
              "    background-color: var(--bg-color);\n",
              "    border: none;\n",
              "    border-radius: 50%;\n",
              "    cursor: pointer;\n",
              "    display: none;\n",
              "    fill: var(--fill-color);\n",
              "    height: 32px;\n",
              "    padding: 0;\n",
              "    width: 32px;\n",
              "  }\n",
              "\n",
              "  .colab-df-quickchart:hover {\n",
              "    background-color: var(--hover-bg-color);\n",
              "    box-shadow: 0 1px 2px rgba(60, 64, 67, 0.3), 0 1px 3px 1px rgba(60, 64, 67, 0.15);\n",
              "    fill: var(--button-hover-fill-color);\n",
              "  }\n",
              "\n",
              "  .colab-df-quickchart-complete:disabled,\n",
              "  .colab-df-quickchart-complete:disabled:hover {\n",
              "    background-color: var(--disabled-bg-color);\n",
              "    fill: var(--disabled-fill-color);\n",
              "    box-shadow: none;\n",
              "  }\n",
              "\n",
              "  .colab-df-spinner {\n",
              "    border: 2px solid var(--fill-color);\n",
              "    border-color: transparent;\n",
              "    border-bottom-color: var(--fill-color);\n",
              "    animation:\n",
              "      spin 1s steps(1) infinite;\n",
              "  }\n",
              "\n",
              "  @keyframes spin {\n",
              "    0% {\n",
              "      border-color: transparent;\n",
              "      border-bottom-color: var(--fill-color);\n",
              "      border-left-color: var(--fill-color);\n",
              "    }\n",
              "    20% {\n",
              "      border-color: transparent;\n",
              "      border-left-color: var(--fill-color);\n",
              "      border-top-color: var(--fill-color);\n",
              "    }\n",
              "    30% {\n",
              "      border-color: transparent;\n",
              "      border-left-color: var(--fill-color);\n",
              "      border-top-color: var(--fill-color);\n",
              "      border-right-color: var(--fill-color);\n",
              "    }\n",
              "    40% {\n",
              "      border-color: transparent;\n",
              "      border-right-color: var(--fill-color);\n",
              "      border-top-color: var(--fill-color);\n",
              "    }\n",
              "    60% {\n",
              "      border-color: transparent;\n",
              "      border-right-color: var(--fill-color);\n",
              "    }\n",
              "    80% {\n",
              "      border-color: transparent;\n",
              "      border-right-color: var(--fill-color);\n",
              "      border-bottom-color: var(--fill-color);\n",
              "    }\n",
              "    90% {\n",
              "      border-color: transparent;\n",
              "      border-bottom-color: var(--fill-color);\n",
              "    }\n",
              "  }\n",
              "</style>\n",
              "\n",
              "  <script>\n",
              "    async function quickchart(key) {\n",
              "      const quickchartButtonEl =\n",
              "        document.querySelector('#' + key + ' button');\n",
              "      quickchartButtonEl.disabled = true;  // To prevent multiple clicks.\n",
              "      quickchartButtonEl.classList.add('colab-df-spinner');\n",
              "      try {\n",
              "        const charts = await google.colab.kernel.invokeFunction(\n",
              "            'suggestCharts', [key], {});\n",
              "      } catch (error) {\n",
              "        console.error('Error during call to suggestCharts:', error);\n",
              "      }\n",
              "      quickchartButtonEl.classList.remove('colab-df-spinner');\n",
              "      quickchartButtonEl.classList.add('colab-df-quickchart-complete');\n",
              "    }\n",
              "    (() => {\n",
              "      let quickchartButtonEl =\n",
              "        document.querySelector('#df-dec9a702-c20a-4425-a23d-3d9f486363f7 button');\n",
              "      quickchartButtonEl.style.display =\n",
              "        google.colab.kernel.accessAllowed ? 'block' : 'none';\n",
              "    })();\n",
              "  </script>\n",
              "</div>\n",
              "\n",
              "    </div>\n",
              "  </div>\n"
            ],
            "application/vnd.google.colaboratory.intrinsic+json": {
              "type": "dataframe",
              "variable_name": "df"
            }
          },
          "metadata": {},
          "execution_count": 3
        }
      ]
    },
    {
      "cell_type": "code",
      "source": [
        "df.info()"
      ],
      "metadata": {
        "id": "h4E5nJBV19xm",
        "colab": {
          "base_uri": "https://localhost:8080/"
        },
        "outputId": "4a7f1983-931a-4882-c8aa-058db0a90c6b"
      },
      "execution_count": 4,
      "outputs": [
        {
          "output_type": "stream",
          "name": "stdout",
          "text": [
            "<class 'pandas.core.frame.DataFrame'>\n",
            "RangeIndex: 9564 entries, 0 to 9563\n",
            "Data columns (total 49 columns):\n",
            " #   Column             Non-Null Count  Dtype  \n",
            "---  ------             --------------  -----  \n",
            " 0   kepid              9564 non-null   int64  \n",
            " 1   kepoi_name         9564 non-null   object \n",
            " 2   kepler_name        2360 non-null   object \n",
            " 3   koi_disposition    9564 non-null   object \n",
            " 4   koi_pdisposition   9564 non-null   object \n",
            " 5   koi_score          8054 non-null   float64\n",
            " 6   koi_fpflag_nt      9564 non-null   int64  \n",
            " 7   koi_fpflag_ss      9564 non-null   int64  \n",
            " 8   koi_fpflag_co      9564 non-null   int64  \n",
            " 9   koi_fpflag_ec      9564 non-null   int64  \n",
            " 10  koi_period         9564 non-null   float64\n",
            " 11  koi_period_err1    9110 non-null   float64\n",
            " 12  koi_period_err2    9110 non-null   float64\n",
            " 13  koi_time0bk        9564 non-null   float64\n",
            " 14  koi_time0bk_err1   9110 non-null   float64\n",
            " 15  koi_time0bk_err2   9110 non-null   float64\n",
            " 16  koi_impact         9201 non-null   float64\n",
            " 17  koi_impact_err1    9110 non-null   float64\n",
            " 18  koi_impact_err2    9110 non-null   float64\n",
            " 19  koi_duration       9564 non-null   float64\n",
            " 20  koi_duration_err1  9110 non-null   float64\n",
            " 21  koi_duration_err2  9110 non-null   float64\n",
            " 22  koi_depth          9201 non-null   float64\n",
            " 23  koi_depth_err1     9110 non-null   float64\n",
            " 24  koi_depth_err2     9110 non-null   float64\n",
            " 25  koi_prad           9201 non-null   float64\n",
            " 26  koi_prad_err1      9201 non-null   float64\n",
            " 27  koi_prad_err2      9201 non-null   float64\n",
            " 28  koi_teq            9201 non-null   float64\n",
            " 29  koi_teq_err1       0 non-null      float64\n",
            " 30  koi_teq_err2       0 non-null      float64\n",
            " 31  koi_insol          9243 non-null   float64\n",
            " 32  koi_insol_err1     9243 non-null   float64\n",
            " 33  koi_insol_err2     9243 non-null   float64\n",
            " 34  koi_model_snr      9201 non-null   float64\n",
            " 35  koi_tce_plnt_num   9218 non-null   float64\n",
            " 36  koi_tce_delivname  9218 non-null   object \n",
            " 37  koi_steff          9201 non-null   float64\n",
            " 38  koi_steff_err1     9096 non-null   float64\n",
            " 39  koi_steff_err2     9081 non-null   float64\n",
            " 40  koi_slogg          9201 non-null   float64\n",
            " 41  koi_slogg_err1     9096 non-null   float64\n",
            " 42  koi_slogg_err2     9096 non-null   float64\n",
            " 43  koi_srad           9201 non-null   float64\n",
            " 44  koi_srad_err1      9096 non-null   float64\n",
            " 45  koi_srad_err2      9096 non-null   float64\n",
            " 46  ra                 9564 non-null   float64\n",
            " 47  dec                9564 non-null   float64\n",
            " 48  koi_kepmag         9563 non-null   float64\n",
            "dtypes: float64(39), int64(5), object(5)\n",
            "memory usage: 3.6+ MB\n"
          ]
        }
      ]
    },
    {
      "cell_type": "code",
      "source": [
        "df = df.drop(['koi_teq_err1', 'koi_teq_err2'], axis=1) #we are dropping since it contain full null values"
      ],
      "metadata": {
        "id": "NKVChZNf2FJR"
      },
      "execution_count": 5,
      "outputs": []
    },
    {
      "cell_type": "code",
      "source": [
        "df.info()"
      ],
      "metadata": {
        "id": "u1o8EIoZ2iHs",
        "colab": {
          "base_uri": "https://localhost:8080/"
        },
        "outputId": "8940f9ac-0836-4bf3-fcd6-40050cd8f4ee"
      },
      "execution_count": 6,
      "outputs": [
        {
          "output_type": "stream",
          "name": "stdout",
          "text": [
            "<class 'pandas.core.frame.DataFrame'>\n",
            "RangeIndex: 9564 entries, 0 to 9563\n",
            "Data columns (total 47 columns):\n",
            " #   Column             Non-Null Count  Dtype  \n",
            "---  ------             --------------  -----  \n",
            " 0   kepid              9564 non-null   int64  \n",
            " 1   kepoi_name         9564 non-null   object \n",
            " 2   kepler_name        2360 non-null   object \n",
            " 3   koi_disposition    9564 non-null   object \n",
            " 4   koi_pdisposition   9564 non-null   object \n",
            " 5   koi_score          8054 non-null   float64\n",
            " 6   koi_fpflag_nt      9564 non-null   int64  \n",
            " 7   koi_fpflag_ss      9564 non-null   int64  \n",
            " 8   koi_fpflag_co      9564 non-null   int64  \n",
            " 9   koi_fpflag_ec      9564 non-null   int64  \n",
            " 10  koi_period         9564 non-null   float64\n",
            " 11  koi_period_err1    9110 non-null   float64\n",
            " 12  koi_period_err2    9110 non-null   float64\n",
            " 13  koi_time0bk        9564 non-null   float64\n",
            " 14  koi_time0bk_err1   9110 non-null   float64\n",
            " 15  koi_time0bk_err2   9110 non-null   float64\n",
            " 16  koi_impact         9201 non-null   float64\n",
            " 17  koi_impact_err1    9110 non-null   float64\n",
            " 18  koi_impact_err2    9110 non-null   float64\n",
            " 19  koi_duration       9564 non-null   float64\n",
            " 20  koi_duration_err1  9110 non-null   float64\n",
            " 21  koi_duration_err2  9110 non-null   float64\n",
            " 22  koi_depth          9201 non-null   float64\n",
            " 23  koi_depth_err1     9110 non-null   float64\n",
            " 24  koi_depth_err2     9110 non-null   float64\n",
            " 25  koi_prad           9201 non-null   float64\n",
            " 26  koi_prad_err1      9201 non-null   float64\n",
            " 27  koi_prad_err2      9201 non-null   float64\n",
            " 28  koi_teq            9201 non-null   float64\n",
            " 29  koi_insol          9243 non-null   float64\n",
            " 30  koi_insol_err1     9243 non-null   float64\n",
            " 31  koi_insol_err2     9243 non-null   float64\n",
            " 32  koi_model_snr      9201 non-null   float64\n",
            " 33  koi_tce_plnt_num   9218 non-null   float64\n",
            " 34  koi_tce_delivname  9218 non-null   object \n",
            " 35  koi_steff          9201 non-null   float64\n",
            " 36  koi_steff_err1     9096 non-null   float64\n",
            " 37  koi_steff_err2     9081 non-null   float64\n",
            " 38  koi_slogg          9201 non-null   float64\n",
            " 39  koi_slogg_err1     9096 non-null   float64\n",
            " 40  koi_slogg_err2     9096 non-null   float64\n",
            " 41  koi_srad           9201 non-null   float64\n",
            " 42  koi_srad_err1      9096 non-null   float64\n",
            " 43  koi_srad_err2      9096 non-null   float64\n",
            " 44  ra                 9564 non-null   float64\n",
            " 45  dec                9564 non-null   float64\n",
            " 46  koi_kepmag         9563 non-null   float64\n",
            "dtypes: float64(37), int64(5), object(5)\n",
            "memory usage: 3.4+ MB\n"
          ]
        }
      ]
    },
    {
      "cell_type": "code",
      "source": [
        "!pip install ydata-profiling"
      ],
      "metadata": {
        "id": "XQtZK9EP20xA"
      },
      "execution_count": null,
      "outputs": []
    },
    {
      "cell_type": "code",
      "source": [
        "from ydata_profiling import ProfileReport\n",
        "profile=ProfileReport(df,title=\"kepler data analysis\")\n",
        "profile.to_notebook_iframe()"
      ],
      "metadata": {
        "id": "WxBOP7Fp3FT7"
      },
      "execution_count": null,
      "outputs": []
    },
    {
      "cell_type": "code",
      "source": [
        "\n",
        "df.drop(['kepler_name', 'koi_pdisposition', 'koi_srad_err2', 'koi_srad_err1',\n",
        "         'koi_time0bk_err1', 'koi_time0bk_err2', 'koi_steff_err2', 'koi_steff_err1',\n",
        "         'koi_depth_err1', 'koi_depth_err2', 'koi_insol_err2'],\n",
        "        axis=1, inplace=True) #checked correlatio and EDA dropped unnecessory columns\n"
      ],
      "metadata": {
        "id": "DniDVvjR8EW1"
      },
      "execution_count": 7,
      "outputs": []
    },
    {
      "cell_type": "code",
      "source": [
        "df.columns"
      ],
      "metadata": {
        "id": "j44M1VEA9vFt",
        "colab": {
          "base_uri": "https://localhost:8080/"
        },
        "outputId": "e52eb0e4-f385-4255-f63e-a4daa1353647"
      },
      "execution_count": 8,
      "outputs": [
        {
          "output_type": "execute_result",
          "data": {
            "text/plain": [
              "Index(['kepid', 'kepoi_name', 'koi_disposition', 'koi_score', 'koi_fpflag_nt',\n",
              "       'koi_fpflag_ss', 'koi_fpflag_co', 'koi_fpflag_ec', 'koi_period',\n",
              "       'koi_period_err1', 'koi_period_err2', 'koi_time0bk', 'koi_impact',\n",
              "       'koi_impact_err1', 'koi_impact_err2', 'koi_duration',\n",
              "       'koi_duration_err1', 'koi_duration_err2', 'koi_depth', 'koi_prad',\n",
              "       'koi_prad_err1', 'koi_prad_err2', 'koi_teq', 'koi_insol',\n",
              "       'koi_insol_err1', 'koi_model_snr', 'koi_tce_plnt_num',\n",
              "       'koi_tce_delivname', 'koi_steff', 'koi_slogg', 'koi_slogg_err1',\n",
              "       'koi_slogg_err2', 'koi_srad', 'ra', 'dec', 'koi_kepmag'],\n",
              "      dtype='object')"
            ]
          },
          "metadata": {},
          "execution_count": 8
        }
      ]
    },
    {
      "cell_type": "markdown",
      "source": [],
      "metadata": {
        "id": "BUwgmA8YWRHf"
      }
    },
    {
      "cell_type": "code",
      "source": [
        "df.drop(['koi_slogg_err2', 'koi_period_err1', 'koi_period_err2', 'koi_impact_err2'],\n",
        "        axis=1, inplace=True)"
      ],
      "metadata": {
        "id": "csQeqkS29s3C"
      },
      "execution_count": 9,
      "outputs": []
    },
    {
      "cell_type": "code",
      "source": [
        "df.drop(['koi_duration_err1', 'koi_duration_err2','koi_slogg_err1', 'koi_insol_err1','koi_prad_err1' ],\n",
        "        axis=1, inplace=True)"
      ],
      "metadata": {
        "id": "rjHvanJQ8UE7"
      },
      "execution_count": 10,
      "outputs": []
    },
    {
      "cell_type": "code",
      "source": [
        "df.columns"
      ],
      "metadata": {
        "id": "9VcPUG1i-rIB",
        "colab": {
          "base_uri": "https://localhost:8080/"
        },
        "outputId": "c9497676-67e8-42fe-cc9a-65f91f1454dc"
      },
      "execution_count": 11,
      "outputs": [
        {
          "output_type": "execute_result",
          "data": {
            "text/plain": [
              "Index(['kepid', 'kepoi_name', 'koi_disposition', 'koi_score', 'koi_fpflag_nt',\n",
              "       'koi_fpflag_ss', 'koi_fpflag_co', 'koi_fpflag_ec', 'koi_period',\n",
              "       'koi_time0bk', 'koi_impact', 'koi_impact_err1', 'koi_duration',\n",
              "       'koi_depth', 'koi_prad', 'koi_prad_err2', 'koi_teq', 'koi_insol',\n",
              "       'koi_model_snr', 'koi_tce_plnt_num', 'koi_tce_delivname', 'koi_steff',\n",
              "       'koi_slogg', 'koi_srad', 'ra', 'dec', 'koi_kepmag'],\n",
              "      dtype='object')"
            ]
          },
          "metadata": {},
          "execution_count": 11
        }
      ]
    },
    {
      "cell_type": "code",
      "source": [
        "df.drop([ 'koi_impact_err1', 'koi_prad_err2' ],   axis=1, inplace=True)"
      ],
      "metadata": {
        "id": "VFqiwum3-zgi"
      },
      "execution_count": 12,
      "outputs": []
    },
    {
      "cell_type": "code",
      "source": [
        "df.isnull().sum() #now dropped every unwanted data and now checking null values"
      ],
      "metadata": {
        "colab": {
          "base_uri": "https://localhost:8080/",
          "height": 868
        },
        "id": "n1n_ouzH_Iy-",
        "outputId": "e575efb1-5365-4419-e3ab-3bac55ed4d85"
      },
      "execution_count": 13,
      "outputs": [
        {
          "output_type": "execute_result",
          "data": {
            "text/plain": [
              "kepid                   0\n",
              "kepoi_name              0\n",
              "koi_disposition         0\n",
              "koi_score            1510\n",
              "koi_fpflag_nt           0\n",
              "koi_fpflag_ss           0\n",
              "koi_fpflag_co           0\n",
              "koi_fpflag_ec           0\n",
              "koi_period              0\n",
              "koi_time0bk             0\n",
              "koi_impact            363\n",
              "koi_duration            0\n",
              "koi_depth             363\n",
              "koi_prad              363\n",
              "koi_teq               363\n",
              "koi_insol             321\n",
              "koi_model_snr         363\n",
              "koi_tce_plnt_num      346\n",
              "koi_tce_delivname     346\n",
              "koi_steff             363\n",
              "koi_slogg             363\n",
              "koi_srad              363\n",
              "ra                      0\n",
              "dec                     0\n",
              "koi_kepmag              1\n",
              "dtype: int64"
            ],
            "text/html": [
              "<div>\n",
              "<style scoped>\n",
              "    .dataframe tbody tr th:only-of-type {\n",
              "        vertical-align: middle;\n",
              "    }\n",
              "\n",
              "    .dataframe tbody tr th {\n",
              "        vertical-align: top;\n",
              "    }\n",
              "\n",
              "    .dataframe thead th {\n",
              "        text-align: right;\n",
              "    }\n",
              "</style>\n",
              "<table border=\"1\" class=\"dataframe\">\n",
              "  <thead>\n",
              "    <tr style=\"text-align: right;\">\n",
              "      <th></th>\n",
              "      <th>0</th>\n",
              "    </tr>\n",
              "  </thead>\n",
              "  <tbody>\n",
              "    <tr>\n",
              "      <th>kepid</th>\n",
              "      <td>0</td>\n",
              "    </tr>\n",
              "    <tr>\n",
              "      <th>kepoi_name</th>\n",
              "      <td>0</td>\n",
              "    </tr>\n",
              "    <tr>\n",
              "      <th>koi_disposition</th>\n",
              "      <td>0</td>\n",
              "    </tr>\n",
              "    <tr>\n",
              "      <th>koi_score</th>\n",
              "      <td>1510</td>\n",
              "    </tr>\n",
              "    <tr>\n",
              "      <th>koi_fpflag_nt</th>\n",
              "      <td>0</td>\n",
              "    </tr>\n",
              "    <tr>\n",
              "      <th>koi_fpflag_ss</th>\n",
              "      <td>0</td>\n",
              "    </tr>\n",
              "    <tr>\n",
              "      <th>koi_fpflag_co</th>\n",
              "      <td>0</td>\n",
              "    </tr>\n",
              "    <tr>\n",
              "      <th>koi_fpflag_ec</th>\n",
              "      <td>0</td>\n",
              "    </tr>\n",
              "    <tr>\n",
              "      <th>koi_period</th>\n",
              "      <td>0</td>\n",
              "    </tr>\n",
              "    <tr>\n",
              "      <th>koi_time0bk</th>\n",
              "      <td>0</td>\n",
              "    </tr>\n",
              "    <tr>\n",
              "      <th>koi_impact</th>\n",
              "      <td>363</td>\n",
              "    </tr>\n",
              "    <tr>\n",
              "      <th>koi_duration</th>\n",
              "      <td>0</td>\n",
              "    </tr>\n",
              "    <tr>\n",
              "      <th>koi_depth</th>\n",
              "      <td>363</td>\n",
              "    </tr>\n",
              "    <tr>\n",
              "      <th>koi_prad</th>\n",
              "      <td>363</td>\n",
              "    </tr>\n",
              "    <tr>\n",
              "      <th>koi_teq</th>\n",
              "      <td>363</td>\n",
              "    </tr>\n",
              "    <tr>\n",
              "      <th>koi_insol</th>\n",
              "      <td>321</td>\n",
              "    </tr>\n",
              "    <tr>\n",
              "      <th>koi_model_snr</th>\n",
              "      <td>363</td>\n",
              "    </tr>\n",
              "    <tr>\n",
              "      <th>koi_tce_plnt_num</th>\n",
              "      <td>346</td>\n",
              "    </tr>\n",
              "    <tr>\n",
              "      <th>koi_tce_delivname</th>\n",
              "      <td>346</td>\n",
              "    </tr>\n",
              "    <tr>\n",
              "      <th>koi_steff</th>\n",
              "      <td>363</td>\n",
              "    </tr>\n",
              "    <tr>\n",
              "      <th>koi_slogg</th>\n",
              "      <td>363</td>\n",
              "    </tr>\n",
              "    <tr>\n",
              "      <th>koi_srad</th>\n",
              "      <td>363</td>\n",
              "    </tr>\n",
              "    <tr>\n",
              "      <th>ra</th>\n",
              "      <td>0</td>\n",
              "    </tr>\n",
              "    <tr>\n",
              "      <th>dec</th>\n",
              "      <td>0</td>\n",
              "    </tr>\n",
              "    <tr>\n",
              "      <th>koi_kepmag</th>\n",
              "      <td>1</td>\n",
              "    </tr>\n",
              "  </tbody>\n",
              "</table>\n",
              "</div><br><label><b>dtype:</b> int64</label>"
            ]
          },
          "metadata": {},
          "execution_count": 13
        }
      ]
    },
    {
      "cell_type": "code",
      "source": [
        "\n",
        "# Plot distribution for each numerical column\n",
        "numerical_columns = df.select_dtypes(include=['float64', 'int64']).columns\n",
        "\n",
        "for column in numerical_columns:\n",
        "    plt.figure(figsize=(8, 4))\n",
        "    sns.histplot(df[column], kde=True)\n",
        "    plt.title(f'Distribution of {column}')\n",
        "    plt.xlabel(column)\n",
        "    plt.ylabel('Frequency')\n",
        "    plt.show()\n"
      ],
      "metadata": {
        "colab": {
          "base_uri": "https://localhost:8080/",
          "height": 1000
        },
        "id": "uExSJ249_rG6",
        "outputId": "fee64e21-d101-4d8d-f89a-adb4672fa820"
      },
      "execution_count": 14,
      "outputs": [
        {
          "output_type": "display_data",
          "data": {
            "text/plain": [
              "<Figure size 800x400 with 1 Axes>"
            ],
            "image/png": "[encoded data removed]"
          },
          "metadata": {}
        },
        {
          "output_type": "display_data",
          "data": {
            "text/plain": [
              "<Figure size 800x400 with 1 Axes>"
            ],
            "image/png": "[encoded data removed]"
          },
          "metadata": {}
        },
        {
          "output_type": "display_data",
          "data": {
            "text/plain": [
              "<Figure size 800x400 with 1 Axes>"
            ],
            "image/png": "[encoded data removed]"
          },
          "metadata": {}
        },
        {
          "output_type": "display_data",
          "data": {
            "text/plain": [
              "<Figure size 800x400 with 1 Axes>"
            ],
            "image/png": "[encoded data removed]"
          },
          "metadata": {}
        },
        {
          "output_type": "display_data",
          "data": {
            "text/plain": [
              "<Figure size 800x400 with 1 Axes>"
            ],
            "image/png": "[encoded data removed]"
          },
          "metadata": {}
        },
        {
          "output_type": "display_data",
          "data": {
            "text/plain": [
              "<Figure size 800x400 with 1 Axes>"
            ],
            "image/png": "[encoded data removed]"
          },
          "metadata": {}
        },
        {
          "output_type": "error",
          "ename": "KeyboardInterrupt",
          "evalue": "",
          "traceback": [
            "\u001b[0;31m---------------------------------------------------------------------------\u001b[0m",
            "\u001b[0;31mKeyboardInterrupt\u001b[0m                         Traceback (most recent call last)",
            "\u001b[0;32m<ipython-input-14-5878c164d3bc>\u001b[0m in \u001b[0;36m<cell line: 4>\u001b[0;34m()\u001b[0m\n\u001b[1;32m      4\u001b[0m \u001b[0;32mfor\u001b[0m \u001b[0mcolumn\u001b[0m \u001b[0;32min\u001b[0m \u001b[0mnumerical_columns\u001b[0m\u001b[0;34m:\u001b[0m\u001b[0;34m\u001b[0m\u001b[0;34m\u001b[0m\u001b[0m\n\u001b[1;32m      5\u001b[0m     \u001b[0mplt\u001b[0m\u001b[0;34m.\u001b[0m\u001b[0mfigure\u001b[0m\u001b[0;34m(\u001b[0m\u001b[0mfigsize\u001b[0m\u001b[0;34m=\u001b[0m\u001b[0;34m(\u001b[0m\u001b[0;36m8\u001b[0m\u001b[0;34m,\u001b[0m \u001b[0;36m4\u001b[0m\u001b[0;34m)\u001b[0m\u001b[0;34m)\u001b[0m\u001b[0;34m\u001b[0m\u001b[0;34m\u001b[0m\u001b[0m\n\u001b[0;32m----> 6\u001b[0;31m     \u001b[0msns\u001b[0m\u001b[0;34m.\u001b[0m\u001b[0mhistplot\u001b[0m\u001b[0;34m(\u001b[0m\u001b[0mdf\u001b[0m\u001b[0;34m[\u001b[0m\u001b[0mcolumn\u001b[0m\u001b[0;34m]\u001b[0m\u001b[0;34m,\u001b[0m \u001b[0mkde\u001b[0m\u001b[0;34m=\u001b[0m\u001b[0;32mTrue\u001b[0m\u001b[0;34m)\u001b[0m\u001b[0;34m\u001b[0m\u001b[0;34m\u001b[0m\u001b[0m\n\u001b[0m\u001b[1;32m      7\u001b[0m     \u001b[0mplt\u001b[0m\u001b[0;34m.\u001b[0m\u001b[0mtitle\u001b[0m\u001b[0;34m(\u001b[0m\u001b[0;34mf'Distribution of {column}'\u001b[0m\u001b[0;34m)\u001b[0m\u001b[0;34m\u001b[0m\u001b[0;34m\u001b[0m\u001b[0m\n\u001b[1;32m      8\u001b[0m     \u001b[0mplt\u001b[0m\u001b[0;34m.\u001b[0m\u001b[0mxlabel\u001b[0m\u001b[0;34m(\u001b[0m\u001b[0mcolumn\u001b[0m\u001b[0;34m)\u001b[0m\u001b[0;34m\u001b[0m\u001b[0;34m\u001b[0m\u001b[0m\n",
            "\u001b[0;32m/usr/local/lib/python3.10/dist-packages/seaborn/distributions.py\u001b[0m in \u001b[0;36mhistplot\u001b[0;34m(data, x, y, hue, weights, stat, bins, binwidth, binrange, discrete, cumulative, common_bins, common_norm, multiple, element, fill, shrink, kde, kde_kws, line_kws, thresh, pthresh, pmax, cbar, cbar_ax, cbar_kws, palette, hue_order, hue_norm, color, log_scale, legend, ax, **kwargs)\u001b[0m\n\u001b[1;32m   1414\u001b[0m     \u001b[0;32mif\u001b[0m \u001b[0mp\u001b[0m\u001b[0;34m.\u001b[0m\u001b[0munivariate\u001b[0m\u001b[0;34m:\u001b[0m\u001b[0;34m\u001b[0m\u001b[0;34m\u001b[0m\u001b[0m\n\u001b[1;32m   1415\u001b[0m \u001b[0;34m\u001b[0m\u001b[0m\n\u001b[0;32m-> 1416\u001b[0;31m         p.plot_univariate_histogram(\n\u001b[0m\u001b[1;32m   1417\u001b[0m             \u001b[0mmultiple\u001b[0m\u001b[0;34m=\u001b[0m\u001b[0mmultiple\u001b[0m\u001b[0;34m,\u001b[0m\u001b[0;34m\u001b[0m\u001b[0;34m\u001b[0m\u001b[0m\n\u001b[1;32m   1418\u001b[0m             \u001b[0melement\u001b[0m\u001b[0;34m=\u001b[0m\u001b[0melement\u001b[0m\u001b[0;34m,\u001b[0m\u001b[0;34m\u001b[0m\u001b[0;34m\u001b[0m\u001b[0m\n",
            "\u001b[0;32m/usr/local/lib/python3.10/dist-packages/seaborn/distributions.py\u001b[0m in \u001b[0;36mplot_univariate_histogram\u001b[0;34m(self, multiple, element, fill, common_norm, common_bins, shrink, kde, kde_kws, color, legend, line_kws, estimate_kws, **plot_kws)\u001b[0m\n\u001b[1;32m    569\u001b[0m \u001b[0;34m\u001b[0m\u001b[0m\n\u001b[1;32m    570\u001b[0m                 \u001b[0mplot_func\u001b[0m \u001b[0;34m=\u001b[0m \u001b[0max\u001b[0m\u001b[0;34m.\u001b[0m\u001b[0mbar\u001b[0m \u001b[0;32mif\u001b[0m \u001b[0mself\u001b[0m\u001b[0;34m.\u001b[0m\u001b[0mdata_variable\u001b[0m \u001b[0;34m==\u001b[0m \u001b[0;34m\"x\"\u001b[0m \u001b[0;32melse\u001b[0m \u001b[0max\u001b[0m\u001b[0;34m.\u001b[0m\u001b[0mbarh\u001b[0m\u001b[0;34m\u001b[0m\u001b[0;34m\u001b[0m\u001b[0m\n\u001b[0;32m--> 571\u001b[0;31m                 artists = plot_func(\n\u001b[0m\u001b[1;32m    572\u001b[0m                     \u001b[0mhist\u001b[0m\u001b[0;34m[\u001b[0m\u001b[0;34m\"edges\"\u001b[0m\u001b[0;34m]\u001b[0m\u001b[0;34m,\u001b[0m\u001b[0;34m\u001b[0m\u001b[0;34m\u001b[0m\u001b[0m\n\u001b[1;32m    573\u001b[0m                     \u001b[0mhist\u001b[0m\u001b[0;34m[\u001b[0m\u001b[0;34m\"heights\"\u001b[0m\u001b[0;34m]\u001b[0m \u001b[0;34m-\u001b[0m \u001b[0mbottom\u001b[0m\u001b[0;34m,\u001b[0m\u001b[0;34m\u001b[0m\u001b[0;34m\u001b[0m\u001b[0m\n",
            "\u001b[0;32m/usr/local/lib/python3.10/dist-packages/matplotlib/__init__.py\u001b[0m in \u001b[0;36minner\u001b[0;34m(ax, data, *args, **kwargs)\u001b[0m\n\u001b[1;32m   1463\u001b[0m     \u001b[0;32mdef\u001b[0m \u001b[0minner\u001b[0m\u001b[0;34m(\u001b[0m\u001b[0max\u001b[0m\u001b[0;34m,\u001b[0m \u001b[0;34m*\u001b[0m\u001b[0margs\u001b[0m\u001b[0;34m,\u001b[0m \u001b[0mdata\u001b[0m\u001b[0;34m=\u001b[0m\u001b[0;32mNone\u001b[0m\u001b[0;34m,\u001b[0m \u001b[0;34m**\u001b[0m\u001b[0mkwargs\u001b[0m\u001b[0;34m)\u001b[0m\u001b[0;34m:\u001b[0m\u001b[0;34m\u001b[0m\u001b[0;34m\u001b[0m\u001b[0m\n\u001b[1;32m   1464\u001b[0m         \u001b[0;32mif\u001b[0m \u001b[0mdata\u001b[0m \u001b[0;32mis\u001b[0m \u001b[0;32mNone\u001b[0m\u001b[0;34m:\u001b[0m\u001b[0;34m\u001b[0m\u001b[0;34m\u001b[0m\u001b[0m\n\u001b[0;32m-> 1465\u001b[0;31m             \u001b[0;32mreturn\u001b[0m \u001b[0mfunc\u001b[0m\u001b[0;34m(\u001b[0m\u001b[0max\u001b[0m\u001b[0;34m,\u001b[0m \u001b[0;34m*\u001b[0m\u001b[0mmap\u001b[0m\u001b[0;34m(\u001b[0m\u001b[0msanitize_sequence\u001b[0m\u001b[0;34m,\u001b[0m \u001b[0margs\u001b[0m\u001b[0;34m)\u001b[0m\u001b[0;34m,\u001b[0m \u001b[0;34m**\u001b[0m\u001b[0mkwargs\u001b[0m\u001b[0;34m)\u001b[0m\u001b[0;34m\u001b[0m\u001b[0;34m\u001b[0m\u001b[0m\n\u001b[0m\u001b[1;32m   1466\u001b[0m \u001b[0;34m\u001b[0m\u001b[0m\n\u001b[1;32m   1467\u001b[0m         \u001b[0mbound\u001b[0m \u001b[0;34m=\u001b[0m \u001b[0mnew_sig\u001b[0m\u001b[0;34m.\u001b[0m\u001b[0mbind\u001b[0m\u001b[0;34m(\u001b[0m\u001b[0max\u001b[0m\u001b[0;34m,\u001b[0m \u001b[0;34m*\u001b[0m\u001b[0margs\u001b[0m\u001b[0;34m,\u001b[0m \u001b[0;34m**\u001b[0m\u001b[0mkwargs\u001b[0m\u001b[0;34m)\u001b[0m\u001b[0;34m\u001b[0m\u001b[0;34m\u001b[0m\u001b[0m\n",
            "\u001b[0;32m/usr/local/lib/python3.10/dist-packages/matplotlib/axes/_axes.py\u001b[0m in \u001b[0;36mbar\u001b[0;34m(self, x, height, width, bottom, align, **kwargs)\u001b[0m\n\u001b[1;32m   2518\u001b[0m                    hatch, patch_labels)\n\u001b[1;32m   2519\u001b[0m         \u001b[0;32mfor\u001b[0m \u001b[0ml\u001b[0m\u001b[0;34m,\u001b[0m \u001b[0mb\u001b[0m\u001b[0;34m,\u001b[0m \u001b[0mw\u001b[0m\u001b[0;34m,\u001b[0m \u001b[0mh\u001b[0m\u001b[0;34m,\u001b[0m \u001b[0mc\u001b[0m\u001b[0;34m,\u001b[0m \u001b[0me\u001b[0m\u001b[0;34m,\u001b[0m \u001b[0mlw\u001b[0m\u001b[0;34m,\u001b[0m \u001b[0mhtch\u001b[0m\u001b[0;34m,\u001b[0m \u001b[0mlbl\u001b[0m \u001b[0;32min\u001b[0m \u001b[0margs\u001b[0m\u001b[0;34m:\u001b[0m\u001b[0;34m\u001b[0m\u001b[0;34m\u001b[0m\u001b[0m\n\u001b[0;32m-> 2520\u001b[0;31m             r = mpatches.Rectangle(\n\u001b[0m\u001b[1;32m   2521\u001b[0m                 \u001b[0mxy\u001b[0m\u001b[0;34m=\u001b[0m\u001b[0;34m(\u001b[0m\u001b[0ml\u001b[0m\u001b[0;34m,\u001b[0m \u001b[0mb\u001b[0m\u001b[0;34m)\u001b[0m\u001b[0;34m,\u001b[0m \u001b[0mwidth\u001b[0m\u001b[0;34m=\u001b[0m\u001b[0mw\u001b[0m\u001b[0;34m,\u001b[0m \u001b[0mheight\u001b[0m\u001b[0;34m=\u001b[0m\u001b[0mh\u001b[0m\u001b[0;34m,\u001b[0m\u001b[0;34m\u001b[0m\u001b[0;34m\u001b[0m\u001b[0m\n\u001b[1;32m   2522\u001b[0m                 \u001b[0mfacecolor\u001b[0m\u001b[0;34m=\u001b[0m\u001b[0mc\u001b[0m\u001b[0;34m,\u001b[0m\u001b[0;34m\u001b[0m\u001b[0;34m\u001b[0m\u001b[0m\n",
            "\u001b[0;32m/usr/local/lib/python3.10/dist-packages/matplotlib/patches.py\u001b[0m in \u001b[0;36m__init__\u001b[0;34m(self, xy, width, height, angle, rotation_point, **kwargs)\u001b[0m\n\u001b[1;32m    716\u001b[0m             \u001b[0;34m%\u001b[0m\u001b[0;34m(\u001b[0m\u001b[0mPatch\u001b[0m\u001b[0;34m:\u001b[0m\u001b[0mkwdoc\u001b[0m\u001b[0;34m)\u001b[0m\u001b[0ms\u001b[0m\u001b[0;34m\u001b[0m\u001b[0;34m\u001b[0m\u001b[0m\n\u001b[1;32m    717\u001b[0m         \"\"\"\n\u001b[0;32m--> 718\u001b[0;31m         \u001b[0msuper\u001b[0m\u001b[0;34m(\u001b[0m\u001b[0;34m)\u001b[0m\u001b[0;34m.\u001b[0m\u001b[0m__init__\u001b[0m\u001b[0;34m(\u001b[0m\u001b[0;34m**\u001b[0m\u001b[0mkwargs\u001b[0m\u001b[0;34m)\u001b[0m\u001b[0;34m\u001b[0m\u001b[0;34m\u001b[0m\u001b[0m\n\u001b[0m\u001b[1;32m    719\u001b[0m         \u001b[0mself\u001b[0m\u001b[0;34m.\u001b[0m\u001b[0m_x0\u001b[0m \u001b[0;34m=\u001b[0m \u001b[0mxy\u001b[0m\u001b[0;34m[\u001b[0m\u001b[0;36m0\u001b[0m\u001b[0;34m]\u001b[0m\u001b[0;34m\u001b[0m\u001b[0;34m\u001b[0m\u001b[0m\n\u001b[1;32m    720\u001b[0m         \u001b[0mself\u001b[0m\u001b[0;34m.\u001b[0m\u001b[0m_y0\u001b[0m \u001b[0;34m=\u001b[0m \u001b[0mxy\u001b[0m\u001b[0;34m[\u001b[0m\u001b[0;36m1\u001b[0m\u001b[0;34m]\u001b[0m\u001b[0;34m\u001b[0m\u001b[0;34m\u001b[0m\u001b[0m\n",
            "\u001b[0;32m/usr/local/lib/python3.10/dist-packages/matplotlib/patches.py\u001b[0m in \u001b[0;36m__init__\u001b[0;34m(self, edgecolor, facecolor, color, linewidth, linestyle, antialiased, hatch, fill, capstyle, joinstyle, **kwargs)\u001b[0m\n\u001b[1;32m     63\u001b[0m         \u001b[0;34m%\u001b[0m\u001b[0;34m(\u001b[0m\u001b[0mPatch\u001b[0m\u001b[0;34m:\u001b[0m\u001b[0mkwdoc\u001b[0m\u001b[0;34m)\u001b[0m\u001b[0ms\u001b[0m\u001b[0;34m\u001b[0m\u001b[0;34m\u001b[0m\u001b[0m\n\u001b[1;32m     64\u001b[0m         \"\"\"\n\u001b[0;32m---> 65\u001b[0;31m         \u001b[0msuper\u001b[0m\u001b[0;34m(\u001b[0m\u001b[0;34m)\u001b[0m\u001b[0;34m.\u001b[0m\u001b[0m__init__\u001b[0m\u001b[0;34m(\u001b[0m\u001b[0;34m)\u001b[0m\u001b[0;34m\u001b[0m\u001b[0;34m\u001b[0m\u001b[0m\n\u001b[0m\u001b[1;32m     66\u001b[0m \u001b[0;34m\u001b[0m\u001b[0m\n\u001b[1;32m     67\u001b[0m         \u001b[0;32mif\u001b[0m \u001b[0mlinestyle\u001b[0m \u001b[0;32mis\u001b[0m \u001b[0;32mNone\u001b[0m\u001b[0;34m:\u001b[0m\u001b[0;34m\u001b[0m\u001b[0;34m\u001b[0m\u001b[0m\n",
            "\u001b[0;32m/usr/local/lib/python3.10/dist-packages/matplotlib/artist.py\u001b[0m in \u001b[0;36m__init__\u001b[0;34m(self)\u001b[0m\n\u001b[1;32m    211\u001b[0m         \u001b[0mself\u001b[0m\u001b[0;34m.\u001b[0m\u001b[0m_sketch\u001b[0m \u001b[0;34m=\u001b[0m \u001b[0mmpl\u001b[0m\u001b[0;34m.\u001b[0m\u001b[0mrcParams\u001b[0m\u001b[0;34m[\u001b[0m\u001b[0;34m'path.sketch'\u001b[0m\u001b[0;34m]\u001b[0m\u001b[0;34m\u001b[0m\u001b[0;34m\u001b[0m\u001b[0m\n\u001b[1;32m    212\u001b[0m         \u001b[0mself\u001b[0m\u001b[0;34m.\u001b[0m\u001b[0m_path_effects\u001b[0m \u001b[0;34m=\u001b[0m \u001b[0mmpl\u001b[0m\u001b[0;34m.\u001b[0m\u001b[0mrcParams\u001b[0m\u001b[0;34m[\u001b[0m\u001b[0;34m'path.effects'\u001b[0m\u001b[0;34m]\u001b[0m\u001b[0;34m\u001b[0m\u001b[0;34m\u001b[0m\u001b[0m\n\u001b[0;32m--> 213\u001b[0;31m         \u001b[0mself\u001b[0m\u001b[0;34m.\u001b[0m\u001b[0m_sticky_edges\u001b[0m \u001b[0;34m=\u001b[0m \u001b[0m_XYPair\u001b[0m\u001b[0;34m(\u001b[0m\u001b[0;34m[\u001b[0m\u001b[0;34m]\u001b[0m\u001b[0;34m,\u001b[0m \u001b[0;34m[\u001b[0m\u001b[0;34m]\u001b[0m\u001b[0;34m)\u001b[0m\u001b[0;34m\u001b[0m\u001b[0;34m\u001b[0m\u001b[0m\n\u001b[0m\u001b[1;32m    214\u001b[0m         \u001b[0mself\u001b[0m\u001b[0;34m.\u001b[0m\u001b[0m_in_layout\u001b[0m \u001b[0;34m=\u001b[0m \u001b[0;32mTrue\u001b[0m\u001b[0;34m\u001b[0m\u001b[0;34m\u001b[0m\u001b[0m\n\u001b[1;32m    215\u001b[0m \u001b[0;34m\u001b[0m\u001b[0m\n",
            "\u001b[0;32m<string>\u001b[0m in \u001b[0;36m<lambda>\u001b[0;34m(_cls, x, y)\u001b[0m\n",
            "\u001b[0;31mKeyboardInterrupt\u001b[0m: "
          ]
        },
        {
          "output_type": "display_data",
          "data": {
            "text/plain": [
              "<Figure size 800x400 with 1 Axes>"
            ],
            "image/png": "[encoded data removed]"
          },
          "metadata": {}
        }
      ]
    },
    {
      "cell_type": "code",
      "source": [
        "df['koi_disposition'].value_counts()"
      ],
      "metadata": {
        "colab": {
          "base_uri": "https://localhost:8080/",
          "height": 209
        },
        "id": "ZaA1lYoFHTnW",
        "outputId": "3e0e5a3d-3c1b-43fa-b429-310082ca8cbe"
      },
      "execution_count": 15,
      "outputs": [
        {
          "output_type": "execute_result",
          "data": {
            "text/plain": [
              "koi_disposition\n",
              "FALSE POSITIVE    4840\n",
              "CANDIDATE         2366\n",
              "CONFIRMED         2358\n",
              "Name: count, dtype: int64"
            ],
            "text/html": [
              "<div>\n",
              "<style scoped>\n",
              "    .dataframe tbody tr th:only-of-type {\n",
              "        vertical-align: middle;\n",
              "    }\n",
              "\n",
              "    .dataframe tbody tr th {\n",
              "        vertical-align: top;\n",
              "    }\n",
              "\n",
              "    .dataframe thead th {\n",
              "        text-align: right;\n",
              "    }\n",
              "</style>\n",
              "<table border=\"1\" class=\"dataframe\">\n",
              "  <thead>\n",
              "    <tr style=\"text-align: right;\">\n",
              "      <th></th>\n",
              "      <th>count</th>\n",
              "    </tr>\n",
              "    <tr>\n",
              "      <th>koi_disposition</th>\n",
              "      <th></th>\n",
              "    </tr>\n",
              "  </thead>\n",
              "  <tbody>\n",
              "    <tr>\n",
              "      <th>FALSE POSITIVE</th>\n",
              "      <td>4840</td>\n",
              "    </tr>\n",
              "    <tr>\n",
              "      <th>CANDIDATE</th>\n",
              "      <td>2366</td>\n",
              "    </tr>\n",
              "    <tr>\n",
              "      <th>CONFIRMED</th>\n",
              "      <td>2358</td>\n",
              "    </tr>\n",
              "  </tbody>\n",
              "</table>\n",
              "</div><br><label><b>dtype:</b> int64</label>"
            ]
          },
          "metadata": {},
          "execution_count": 15
        }
      ]
    },
    {
      "cell_type": "code",
      "source": [
        "df['koi_tce_delivname'].value_counts()"
      ],
      "metadata": {
        "colab": {
          "base_uri": "https://localhost:8080/",
          "height": 209
        },
        "id": "xhly-3qPJHcw",
        "outputId": "46616515-cf49-4724-ac3b-a557b6420eb2"
      },
      "execution_count": 16,
      "outputs": [
        {
          "output_type": "execute_result",
          "data": {
            "text/plain": [
              "koi_tce_delivname\n",
              "q1_q17_dr25_tce    8054\n",
              "q1_q16_tce          796\n",
              "q1_q17_dr24_tce     368\n",
              "Name: count, dtype: int64"
            ],
            "text/html": [
              "<div>\n",
              "<style scoped>\n",
              "    .dataframe tbody tr th:only-of-type {\n",
              "        vertical-align: middle;\n",
              "    }\n",
              "\n",
              "    .dataframe tbody tr th {\n",
              "        vertical-align: top;\n",
              "    }\n",
              "\n",
              "    .dataframe thead th {\n",
              "        text-align: right;\n",
              "    }\n",
              "</style>\n",
              "<table border=\"1\" class=\"dataframe\">\n",
              "  <thead>\n",
              "    <tr style=\"text-align: right;\">\n",
              "      <th></th>\n",
              "      <th>count</th>\n",
              "    </tr>\n",
              "    <tr>\n",
              "      <th>koi_tce_delivname</th>\n",
              "      <th></th>\n",
              "    </tr>\n",
              "  </thead>\n",
              "  <tbody>\n",
              "    <tr>\n",
              "      <th>q1_q17_dr25_tce</th>\n",
              "      <td>8054</td>\n",
              "    </tr>\n",
              "    <tr>\n",
              "      <th>q1_q16_tce</th>\n",
              "      <td>796</td>\n",
              "    </tr>\n",
              "    <tr>\n",
              "      <th>q1_q17_dr24_tce</th>\n",
              "      <td>368</td>\n",
              "    </tr>\n",
              "  </tbody>\n",
              "</table>\n",
              "</div><br><label><b>dtype:</b> int64</label>"
            ]
          },
          "metadata": {},
          "execution_count": 16
        }
      ]
    },
    {
      "cell_type": "code",
      "source": [
        "df.drop(['koi_tce_delivname','kepoi_name'],axis=1,inplace=True)"
      ],
      "metadata": {
        "id": "mTba2jDeLnXo"
      },
      "execution_count": 17,
      "outputs": []
    },
    {
      "cell_type": "code",
      "source": [
        "df.columns"
      ],
      "metadata": {
        "colab": {
          "base_uri": "https://localhost:8080/"
        },
        "id": "SsXFiMLyMCmZ",
        "outputId": "4775b49a-3ae6-4480-cb46-dd6a7e5ae897"
      },
      "execution_count": 18,
      "outputs": [
        {
          "output_type": "execute_result",
          "data": {
            "text/plain": [
              "Index(['kepid', 'koi_disposition', 'koi_score', 'koi_fpflag_nt',\n",
              "       'koi_fpflag_ss', 'koi_fpflag_co', 'koi_fpflag_ec', 'koi_period',\n",
              "       'koi_time0bk', 'koi_impact', 'koi_duration', 'koi_depth', 'koi_prad',\n",
              "       'koi_teq', 'koi_insol', 'koi_model_snr', 'koi_tce_plnt_num',\n",
              "       'koi_steff', 'koi_slogg', 'koi_srad', 'ra', 'dec', 'koi_kepmag'],\n",
              "      dtype='object')"
            ]
          },
          "metadata": {},
          "execution_count": 18
        }
      ]
    },
    {
      "cell_type": "code",
      "source": [
        "categorical_columns = [col for col in df.columns if df[col].dtype == 'O']\n",
        "categorical_columns"
      ],
      "metadata": {
        "id": "35rhT_pJMICm"
      },
      "execution_count": null,
      "outputs": []
    },
    {
      "cell_type": "code",
      "source": [
        "\n",
        "\n",
        "\n",
        "# Define target column and numerical features\n",
        "target_column = 'koi_disposition'\n",
        "numerical_columns = [feature for feature in df.columns if df[feature].dtype != 'O' and feature != target_column]\n",
        "\n",
        "# Separate features and target\n",
        "X = df.drop(columns=[target_column])\n",
        "y = df[target_column]\n",
        "\n",
        "# Encode the target column\n",
        "label_encoder = LabelEncoder()\n",
        "y_encoded = label_encoder.fit_transform(y)\n",
        "\n",
        "# Numerical pipeline with imputer and scaler\n",
        "num_pipeline = Pipeline(steps=[\n",
        "    ('imputer', SimpleImputer(strategy='median')),\n",
        "    ('scaler', StandardScaler())\n",
        "])\n",
        "\n",
        "# ColumnTransformer for preprocessing\n",
        "preprocessor = ColumnTransformer(transformers=[\n",
        "    (\"num_pipeline\", num_pipeline, numerical_columns)\n",
        "])\n",
        "\n",
        "# Split data into training and testing sets\n",
        "X_train, X_test, y_train, y_test = train_test_split(X, y_encoded, test_size=0.2, random_state=42)\n",
        "\n",
        "# Apply preprocessing to training and test data\n",
        "X_train_transformed = preprocessor.fit_transform(X_train)\n",
        "X_test_transformed = preprocessor.transform(X_test)\n",
        "\n",
        "# Apply SMOTE to balance classes in the training data\n",
        "smote = SMOTE(sampling_strategy='auto', random_state=42)\n",
        "X_train_smote, y_train_smote = smote.fit_resample(X_train_transformed, y_train)\n",
        "\n",
        "# Check class distribution after SMOTE\n",
        "print(\"Class distribution after SMOTE:\", pd.Series(y_train_smote).value_counts())\n",
        "\n",
        "# Model definitions and hyperparameters\n",
        "models = {\n",
        "    'Logistic Regression': LogisticRegression(max_iter=200),\n",
        "    'Decision Tree': DecisionTreeClassifier(),\n",
        "    'Random Forest': RandomForestClassifier(),\n",
        "    'XGBoost': XGBClassifier(),\n",
        "    'Naive Bayes': GaussianNB(),\n",
        "    'KNN': KNeighborsClassifier()\n",
        "}\n",
        "\n",
        "params = {\n",
        "    \"Logistic Regression\": {'C': [0.1, 1, 10, 100], 'solver': ['liblinear']},\n",
        "    \"Decision Tree\": {'criterion': ['gini', 'entropy'], 'max_depth': [5, 10, 15, 20], 'splitter': ['best', 'random']},\n",
        "    \"Random Forest\": {'n_estimators': [50, 100, 200], 'max_depth': [None, 10, 20, 30]},\n",
        "    \"XGBoost\": {'learning_rate': [0.1, 0.01], 'n_estimators': [50, 100], 'max_depth': [3, 6, 10]},\n",
        "    \"Naive Bayes\": {},\n",
        "    \"KNN\": {'n_neighbors': [3, 5, 7, 10], 'weights': ['uniform', 'distance'], 'metric': ['euclidean', 'manhattan']}\n",
        "}\n",
        "\n",
        "# Model evaluation function\n",
        "def evaluate_models(X_train, y_train, X_test, y_test, models, params):\n",
        "    report = {}\n",
        "    best_params = {}\n",
        "\n",
        "    for name, model in models.items():\n",
        "        print(f\"Training and tuning model: {name}...\")\n",
        "\n",
        "        # GridSearchCV to tune hyperparameters\n",
        "        gs = GridSearchCV(model, params.get(name, {}), cv=3, n_jobs=-1, verbose=1)\n",
        "        gs.fit(X_train, y_train)\n",
        "\n",
        "        # Store best model and parameters\n",
        "        best_model = gs.best_estimator_\n",
        "        best_params[name] = gs.best_params_\n",
        "        print(f\"Best parameters for {name}: {gs.best_params_}\")\n",
        "\n",
        "        # Make predictions and evaluate\n",
        "        y_pred = best_model.predict(X_test)\n",
        "        accuracy = accuracy_score(y_test, y_pred)\n",
        "        report[name] = accuracy\n",
        "\n",
        "        print(f\"Accuracy for {name}: {accuracy:.4f}\")\n",
        "\n",
        "    return report, best_params\n",
        "\n",
        "# Evaluate models (using SMOTE data for training)\n",
        "model_report, best_params = evaluate_models(X_train_smote, y_train_smote, X_test_transformed, y_test, models, params)\n",
        "\n",
        "# Identify best model\n",
        "best_model_name = max(model_report, key=model_report.get)\n",
        "print(f\"Best model: {best_model_name} with accuracy: {model_report[best_model_name]:.4f}\")\n",
        "print(\"All model performances:\", model_report)\n",
        "\n",
        "# Show best parameters for the best model\n",
        "print(f\"Best parameters for {best_model_name}: {best_params[best_model_name]}\")\n",
        "\n",
        "# Train and evaluate the best model (using SMOTE data)\n",
        "best_model = models[best_model_name]\n",
        "best_model.set_params(**best_params[best_model_name])  # Set the best parameters\n",
        "best_model.fit(X_train_smote, y_train_smote)\n",
        "\n",
        "# Make predictions on test data\n",
        "y_pred = best_model.predict(X_test_transformed)\n",
        "\n",
        "# Print classification report and confusion matrix\n",
        "print(\"Classification Report:\\n\", classification_report(y_test, y_pred))\n",
        "print(\"Confusion Matrix:\\n\", confusion_matrix(y_test, y_pred))\n"
      ],
      "metadata": {
        "colab": {
          "base_uri": "https://localhost:8080/"
        },
        "id": "gIGUAaFJrpFc",
        "outputId": "2fa3262a-77cd-4373-d188-737b5d5c77ef"
      },
      "execution_count": 19,
      "outputs": [
        {
          "output_type": "stream",
          "name": "stdout",
          "text": [
            "Class distribution after SMOTE: 2    3901\n",
            "1    3901\n",
            "0    3901\n",
            "Name: count, dtype: int64\n",
            "Training and tuning model: Logistic Regression...\n",
            "Fitting 3 folds for each of 4 candidates, totalling 12 fits\n",
            "Best parameters for Logistic Regression: {'C': 100, 'solver': 'liblinear'}\n",
            "Accuracy for Logistic Regression: 0.8536\n",
            "Training and tuning model: Decision Tree...\n",
            "Fitting 3 folds for each of 16 candidates, totalling 48 fits\n",
            "Best parameters for Decision Tree: {'criterion': 'entropy', 'max_depth': 15, 'splitter': 'best'}\n",
            "Accuracy for Decision Tree: 0.8730\n",
            "Training and tuning model: Random Forest...\n",
            "Fitting 3 folds for each of 12 candidates, totalling 36 fits\n",
            "Best parameters for Random Forest: {'max_depth': 30, 'n_estimators': 200}\n",
            "Accuracy for Random Forest: 0.8970\n",
            "Training and tuning model: XGBoost...\n",
            "Fitting 3 folds for each of 12 candidates, totalling 36 fits\n",
            "Best parameters for XGBoost: {'learning_rate': 0.1, 'max_depth': 10, 'n_estimators': 100}\n",
            "Accuracy for XGBoost: 0.8939\n",
            "Training and tuning model: Naive Bayes...\n",
            "Fitting 3 folds for each of 1 candidates, totalling 3 fits\n",
            "Best parameters for Naive Bayes: {}\n",
            "Accuracy for Naive Bayes: 0.7689\n",
            "Training and tuning model: KNN...\n",
            "Fitting 3 folds for each of 16 candidates, totalling 48 fits\n",
            "Best parameters for KNN: {'metric': 'manhattan', 'n_neighbors': 3, 'weights': 'distance'}\n",
            "Accuracy for KNN: 0.7574\n",
            "Best model: Random Forest with accuracy: 0.8970\n",
            "All model performances: {'Logistic Regression': 0.8536330371144799, 'Decision Tree': 0.872974385781495, 'Random Forest': 0.8970203868269734, 'XGBoost': 0.893883951907998, 'Naive Bayes': 0.7689492943021432, 'KNN': 0.7574490329325666}\n",
            "Best parameters for Random Forest: {'max_depth': 30, 'n_estimators': 200}\n",
            "Classification Report:\n",
            "               precision    recall  f1-score   support\n",
            "\n",
            "           0       0.80      0.83      0.81       484\n",
            "           1       0.84      0.82      0.83       490\n",
            "           2       0.99      0.98      0.99       939\n",
            "\n",
            "    accuracy                           0.90      1913\n",
            "   macro avg       0.88      0.88      0.88      1913\n",
            "weighted avg       0.90      0.90      0.90      1913\n",
            "\n",
            "Confusion Matrix:\n",
            " [[401  74   9]\n",
            " [ 86 400   4]\n",
            " [ 15   0 924]]\n"
          ]
        }
      ]
    },
    {
      "cell_type": "markdown",
      "source": [
        "conclusion\n",
        "\n",
        "    Best Model:\n",
        "\n",
        "    The Random Forest model achieved the highest accuracy of 0.8970, making it the best-performing model among the ones evaluated,  XGBoost: Accuracy of 0.8939. A strong competitor to Random Forest, but slightly lower in accuracy.\n",
        "    The best hyperparameters for the Random Forest model were:\n",
        "        max_depth: 30\n",
        "        n_estimators: 200\n",
        "\n",
        "   random forest showed excellent performance in classifying the target variable, achieving an accuracy of about 90%."
      ],
      "metadata": {
        "id": "tk8ZjE-VtMc8"
      }
    },
    {
      "cell_type": "markdown",
      "source": [],
      "metadata": {
        "id": "Rkx6TDaZnvuu"
      }
    }
  ]
}